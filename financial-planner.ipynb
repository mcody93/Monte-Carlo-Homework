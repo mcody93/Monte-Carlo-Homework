{
 "cells": [
  {
   "cell_type": "markdown",
   "metadata": {},
   "source": [
    "# Unit 5 - Financial Planning"
   ]
  },
  {
   "cell_type": "code",
   "execution_count": 92,
   "metadata": {
    "tags": []
   },
   "outputs": [],
   "source": [
    "# Initial imports\n",
    "import os\n",
    "import requests\n",
    "import pandas as pd\n",
    "from dotenv import load_dotenv\n",
    "import alpaca_trade_api as tradeapi\n",
    "from MCForecastTools import MCSimulation\n",
    "import json\n",
    "import numpy as np\n",
    "import matplotlib.pyplot as plt\n",
    "\n",
    "%matplotlib inline"
   ]
  },
  {
   "cell_type": "code",
   "execution_count": 3,
   "metadata": {
    "tags": []
   },
   "outputs": [
    {
     "data": {
      "text/plain": [
       "True"
      ]
     },
     "execution_count": 3,
     "metadata": {},
     "output_type": "execute_result"
    }
   ],
   "source": [
    "# Load .env enviroment variables\n",
    "load_dotenv()"
   ]
  },
  {
   "cell_type": "markdown",
   "metadata": {},
   "source": [
    "## Part 1 - Personal Finance Planner"
   ]
  },
  {
   "cell_type": "markdown",
   "metadata": {},
   "source": [
    "### Collect Crypto Prices Using the `requests` Library"
   ]
  },
  {
   "cell_type": "code",
   "execution_count": 4,
   "metadata": {
    "tags": []
   },
   "outputs": [],
   "source": [
    "# Set current amount of crypto assets\n",
    "my_btc = 1.2\n",
    "my_eth = 5.3"
   ]
  },
  {
   "cell_type": "code",
   "execution_count": 5,
   "metadata": {
    "tags": []
   },
   "outputs": [],
   "source": [
    "# Crypto API URLs\n",
    "btc_url = \"https://api.alternative.me/v2/ticker/Bitcoin/?convert=USD\"\n",
    "eth_url = \"https://api.alternative.me/v2/ticker/Ethereum/?convert=USD\""
   ]
  },
  {
   "cell_type": "code",
   "execution_count": 6,
   "metadata": {
    "tags": []
   },
   "outputs": [
    {
     "name": "stdout",
     "output_type": "stream",
     "text": [
      "The current value of your 1.2 BTC is $33840.00\n",
      "The current value of your 5.3 ETH is $10280.15\n"
     ]
    }
   ],
   "source": [
    "# Fetch current BTC price\n",
    "response_btc = requests.get(btc_url)\n",
    "btc_data = response_btc.json()\n",
    "btc_price = btc_data[\"data\"][\"1\"][\"quotes\"][\"USD\"][\"price\"]\n",
    "\n",
    "\n",
    "# Fetch current ETH price\n",
    "\n",
    "response_eth = requests.get(eth_url)\n",
    "eth_data = response_eth.json()\n",
    "eth_price =eth_data[\"data\"][\"1027\"][\"quotes\"][\"USD\"][\"price\"]\n",
    "\n",
    "# Compute current value of my crpto\n",
    "my_btc_value = btc_price * my_btc\n",
    "my_eth_value = eth_price * my_eth\n",
    "total_crypto = my_btc_value + my_eth_value\n",
    "\n",
    "# Print current crypto wallet balance\n",
    "print(f\"The current value of your {my_btc} BTC is ${my_btc_value:0.2f}\")\n",
    "print(f\"The current value of your {my_eth} ETH is ${my_eth_value:0.2f}\")"
   ]
  },
  {
   "cell_type": "markdown",
   "metadata": {},
   "source": [
    "### Collect Investments Data Using Alpaca: `SPY` (stocks) and `AGG` (bonds)"
   ]
  },
  {
   "cell_type": "code",
   "execution_count": 7,
   "metadata": {
    "tags": []
   },
   "outputs": [],
   "source": [
    "# Set current amount of shares\n",
    "my_agg = 200\n",
    "my_spy = 50"
   ]
  },
  {
   "cell_type": "code",
   "execution_count": 8,
   "metadata": {
    "tags": []
   },
   "outputs": [
    {
     "data": {
      "text/plain": [
       "<alpaca_trade_api.rest.REST at 0x13a616f7108>"
      ]
     },
     "execution_count": 8,
     "metadata": {},
     "output_type": "execute_result"
    }
   ],
   "source": [
    "# Set Alpaca API key and secret\n",
    "alpaca_api_key = os.getenv(\"ALPACA_API_KEY\")\n",
    "alpaca_secret_key = os.getenv(\"ALPACA_SECRET_KEY\")\n",
    "\n",
    "# Create the Alpaca API object\n",
    "alpaca = tradeapi.REST(alpaca_api_key, alpaca_secret_key, api_version=\"v2\")\n",
    "alpaca"
   ]
  },
  {
   "cell_type": "code",
   "execution_count": 9,
   "metadata": {
    "tags": []
   },
   "outputs": [
    {
     "data": {
      "text/html": [
       "<div>\n",
       "<style scoped>\n",
       "    .dataframe tbody tr th:only-of-type {\n",
       "        vertical-align: middle;\n",
       "    }\n",
       "\n",
       "    .dataframe tbody tr th {\n",
       "        vertical-align: top;\n",
       "    }\n",
       "\n",
       "    .dataframe thead tr th {\n",
       "        text-align: left;\n",
       "    }\n",
       "\n",
       "    .dataframe thead tr:last-of-type th {\n",
       "        text-align: right;\n",
       "    }\n",
       "</style>\n",
       "<table border=\"1\" class=\"dataframe\">\n",
       "  <thead>\n",
       "    <tr>\n",
       "      <th></th>\n",
       "      <th colspan=\"7\" halign=\"left\">AGG</th>\n",
       "      <th colspan=\"7\" halign=\"left\">SPY</th>\n",
       "    </tr>\n",
       "    <tr>\n",
       "      <th></th>\n",
       "      <th>open</th>\n",
       "      <th>high</th>\n",
       "      <th>low</th>\n",
       "      <th>close</th>\n",
       "      <th>volume</th>\n",
       "      <th>trade_count</th>\n",
       "      <th>vwap</th>\n",
       "      <th>open</th>\n",
       "      <th>high</th>\n",
       "      <th>low</th>\n",
       "      <th>close</th>\n",
       "      <th>volume</th>\n",
       "      <th>trade_count</th>\n",
       "      <th>vwap</th>\n",
       "    </tr>\n",
       "    <tr>\n",
       "      <th>timestamp</th>\n",
       "      <th></th>\n",
       "      <th></th>\n",
       "      <th></th>\n",
       "      <th></th>\n",
       "      <th></th>\n",
       "      <th></th>\n",
       "      <th></th>\n",
       "      <th></th>\n",
       "      <th></th>\n",
       "      <th></th>\n",
       "      <th></th>\n",
       "      <th></th>\n",
       "      <th></th>\n",
       "      <th></th>\n",
       "    </tr>\n",
       "  </thead>\n",
       "  <tbody>\n",
       "    <tr>\n",
       "      <th>2023-04-18 04:00:00+00:00</th>\n",
       "      <td>98.91</td>\n",
       "      <td>99.16</td>\n",
       "      <td>98.91</td>\n",
       "      <td>99.04</td>\n",
       "      <td>4753036</td>\n",
       "      <td>17652</td>\n",
       "      <td>99.022777</td>\n",
       "      <td>415.58</td>\n",
       "      <td>415.72</td>\n",
       "      <td>412.7802</td>\n",
       "      <td>414.21</td>\n",
       "      <td>63558297</td>\n",
       "      <td>493076</td>\n",
       "      <td>414.073774</td>\n",
       "    </tr>\n",
       "  </tbody>\n",
       "</table>\n",
       "</div>"
      ],
      "text/plain": [
       "                             AGG                                            \\\n",
       "                            open   high    low  close   volume trade_count   \n",
       "timestamp                                                                    \n",
       "2023-04-18 04:00:00+00:00  98.91  99.16  98.91  99.04  4753036       17652   \n",
       "\n",
       "                                         SPY                            \\\n",
       "                                vwap    open    high       low   close   \n",
       "timestamp                                                                \n",
       "2023-04-18 04:00:00+00:00  99.022777  415.58  415.72  412.7802  414.21   \n",
       "\n",
       "                                                             \n",
       "                             volume trade_count        vwap  \n",
       "timestamp                                                    \n",
       "2023-04-18 04:00:00+00:00  63558297      493076  414.073774  "
      ]
     },
     "execution_count": 9,
     "metadata": {},
     "output_type": "execute_result"
    }
   ],
   "source": [
    "# Format current date as ISO format\n",
    "today = pd.Timestamp(\"2023-04-18\", tz=\"America/New_York\").isoformat()\n",
    "\n",
    "\n",
    "# Set the tickers\n",
    "tickers = [\"AGG\", \"SPY\"]\n",
    "\n",
    "# Set timeframe to \"1Day\" for Alpaca API\n",
    "timeframe = \"1Day\"\n",
    "\n",
    "# Get current closing prices for SPY and AGG\n",
    "portfolio_df = alpaca.get_bars(tickers, timeframe, start=today, end=today).df\n",
    "\n",
    "# Reorganize the DataFrame\n",
    "# Separate ticker data\n",
    "\n",
    "AGG = portfolio_df[portfolio_df[\"symbol\"]==\"AGG\"].drop(\"symbol\", axis=1)\n",
    "SPY = portfolio_df[portfolio_df[\"symbol\"]==\"SPY\"].drop(\"symbol\", axis=1)\n",
    "\n",
    "# Concatenate the ticker DataFrames\n",
    "concat_port_df = pd.concat([AGG, SPY], axis=1, keys=[\"AGG\", \"SPY\"])\n",
    "\n",
    "# Preview DataFrame\n",
    "concat_port_df"
   ]
  },
  {
   "cell_type": "code",
   "execution_count": 10,
   "metadata": {
    "tags": []
   },
   "outputs": [
    {
     "name": "stdout",
     "output_type": "stream",
     "text": [
      "Current SPY closing price: $414.21\n",
      "Current AGG closing price: $99.04\n"
     ]
    }
   ],
   "source": [
    "# Pick AGG and SPY close prices\n",
    "agg_close_price = float(concat_port_df[\"AGG\"][\"close\"])\n",
    "spy_close_price = float(concat_port_df[\"SPY\"][\"close\"])\n",
    "\n",
    "# Print AGG and SPY close prices\n",
    "print(f\"Current SPY closing price: ${spy_close_price}\")\n",
    "print(f\"Current AGG closing price: ${agg_close_price}\")"
   ]
  },
  {
   "cell_type": "code",
   "execution_count": 11,
   "metadata": {
    "tags": []
   },
   "outputs": [
    {
     "name": "stdout",
     "output_type": "stream",
     "text": [
      "The current value of your 50 SPY shares is $20710.50\n",
      "The current value of your 200 AGG shares is $19808.00\n"
     ]
    }
   ],
   "source": [
    "# Compute the current value of shares\n",
    "# YOUR CODE HERE!\n",
    "\n",
    "my_spy_value = my_spy * spy_close_price\n",
    "my_agg_value = my_agg * agg_close_price\n",
    "total_etfs = my_spy_value + my_agg_value\n",
    "\n",
    "# Print current value of shares\n",
    "print(f\"The current value of your {my_spy} SPY shares is ${my_spy_value:0.2f}\")\n",
    "print(f\"The current value of your {my_agg} AGG shares is ${my_agg_value:0.2f}\")"
   ]
  },
  {
   "cell_type": "markdown",
   "metadata": {},
   "source": [
    "### Savings Health Analysis"
   ]
  },
  {
   "cell_type": "code",
   "execution_count": 12,
   "metadata": {
    "tags": []
   },
   "outputs": [
    {
     "data": {
      "text/html": [
       "<div>\n",
       "<style scoped>\n",
       "    .dataframe tbody tr th:only-of-type {\n",
       "        vertical-align: middle;\n",
       "    }\n",
       "\n",
       "    .dataframe tbody tr th {\n",
       "        vertical-align: top;\n",
       "    }\n",
       "\n",
       "    .dataframe thead th {\n",
       "        text-align: right;\n",
       "    }\n",
       "</style>\n",
       "<table border=\"1\" class=\"dataframe\">\n",
       "  <thead>\n",
       "    <tr style=\"text-align: right;\">\n",
       "      <th></th>\n",
       "      <th>amount</th>\n",
       "    </tr>\n",
       "  </thead>\n",
       "  <tbody>\n",
       "    <tr>\n",
       "      <th>crypto</th>\n",
       "      <td>44120.145</td>\n",
       "    </tr>\n",
       "    <tr>\n",
       "      <th>shares</th>\n",
       "      <td>40518.500</td>\n",
       "    </tr>\n",
       "  </tbody>\n",
       "</table>\n",
       "</div>"
      ],
      "text/plain": [
       "           amount\n",
       "crypto  44120.145\n",
       "shares  40518.500"
      ]
     },
     "metadata": {},
     "output_type": "display_data"
    }
   ],
   "source": [
    "# Set monthly household income\n",
    "monthly_income = 12000\n",
    "\n",
    "# Consolidate financial assets data\n",
    "amount = {\"amount\":[total_crypto, total_etfs]}\n",
    "types = [\"crypto\", \"shares\"]\n",
    "\n",
    "# Create savings DataFrame\n",
    "\n",
    "df_savings = pd.DataFrame(amount, index=types)\n",
    "\n",
    "# Display savings DataFrame\n",
    "display(df_savings)"
   ]
  },
  {
   "cell_type": "code",
   "execution_count": 13,
   "metadata": {
    "tags": []
   },
   "outputs": [
    {
     "data": {
      "text/plain": [
       "<AxesSubplot:ylabel='amount'>"
      ]
     },
     "execution_count": 13,
     "metadata": {},
     "output_type": "execute_result"
    },
    {
     "data": {
      "image/png": "[encoded data removed]",
      "text/plain": [
       "<Figure size 640x480 with 1 Axes>"
      ]
     },
     "metadata": {},
     "output_type": "display_data"
    }
   ],
   "source": [
    "# Plot savings pie chart\n",
    "df_savings.plot.pie(y=\"amount\")"
   ]
  },
  {
   "cell_type": "code",
   "execution_count": 45,
   "metadata": {
    "tags": []
   },
   "outputs": [
    {
     "name": "stdout",
     "output_type": "stream",
     "text": [
      "Congratulations on surpassing your goal!\n"
     ]
    }
   ],
   "source": [
    "# Set ideal emergency fund\n",
    "emergency_fund = monthly_income * 3\n",
    "\n",
    "# Calculate total amount of savings\n",
    "current_savings = float(df_savings.sum())\n",
    "\n",
    "# Validate saving health\n",
    "health = current_savings - emergency_fund\n",
    "\n",
    "if health > 0:\n",
    "    print(f\"Congratulations on surpassing your goal!\")\n",
    "elif health == 0:\n",
    "    print(f\"Congratulations on meeting your goal!\")\n",
    "else:\n",
    "    print(f\"You are ${round(health*-1, 2)} away from meeting your goal.\")\n"
   ]
  },
  {
   "cell_type": "markdown",
   "metadata": {},
   "source": [
    "## Part 2 - Retirement Planning\n",
    "\n",
    "### Monte Carlo Simulation"
   ]
  },
  {
   "cell_type": "code",
   "execution_count": 106,
   "metadata": {},
   "outputs": [],
   "source": [
    "# Set start and end dates of five years back from today.\n",
    "# Sample results may vary from the solution based on the time frame chosen\n",
    "\n",
    "start_date = pd.Timestamp('2016-05-01', tz='America/New_York').isoformat()\n",
    "end_date = pd.Timestamp('2021-05-01', tz='America/New_York').isoformat()"
   ]
  },
  {
   "cell_type": "code",
   "execution_count": 109,
   "metadata": {},
   "outputs": [
    {
     "data": {
      "text/html": [
       "<div>\n",
       "<style scoped>\n",
       "    .dataframe tbody tr th:only-of-type {\n",
       "        vertical-align: middle;\n",
       "    }\n",
       "\n",
       "    .dataframe tbody tr th {\n",
       "        vertical-align: top;\n",
       "    }\n",
       "\n",
       "    .dataframe thead tr th {\n",
       "        text-align: left;\n",
       "    }\n",
       "\n",
       "    .dataframe thead tr:last-of-type th {\n",
       "        text-align: right;\n",
       "    }\n",
       "</style>\n",
       "<table border=\"1\" class=\"dataframe\">\n",
       "  <thead>\n",
       "    <tr>\n",
       "      <th></th>\n",
       "      <th colspan=\"7\" halign=\"left\">SPY</th>\n",
       "      <th colspan=\"7\" halign=\"left\">AGG</th>\n",
       "    </tr>\n",
       "    <tr>\n",
       "      <th></th>\n",
       "      <th>open</th>\n",
       "      <th>high</th>\n",
       "      <th>low</th>\n",
       "      <th>close</th>\n",
       "      <th>volume</th>\n",
       "      <th>trade_count</th>\n",
       "      <th>vwap</th>\n",
       "      <th>open</th>\n",
       "      <th>high</th>\n",
       "      <th>low</th>\n",
       "      <th>close</th>\n",
       "      <th>volume</th>\n",
       "      <th>trade_count</th>\n",
       "      <th>vwap</th>\n",
       "    </tr>\n",
       "    <tr>\n",
       "      <th>timestamp</th>\n",
       "      <th></th>\n",
       "      <th></th>\n",
       "      <th></th>\n",
       "      <th></th>\n",
       "      <th></th>\n",
       "      <th></th>\n",
       "      <th></th>\n",
       "      <th></th>\n",
       "      <th></th>\n",
       "      <th></th>\n",
       "      <th></th>\n",
       "      <th></th>\n",
       "      <th></th>\n",
       "      <th></th>\n",
       "    </tr>\n",
       "  </thead>\n",
       "  <tbody>\n",
       "    <tr>\n",
       "      <th>2016-05-02 04:00:00+00:00</th>\n",
       "      <td>206.92</td>\n",
       "      <td>208.18</td>\n",
       "      <td>206.4100</td>\n",
       "      <td>207.9700</td>\n",
       "      <td>61908515</td>\n",
       "      <td>263580</td>\n",
       "      <td>207.294812</td>\n",
       "      <td>110.74</td>\n",
       "      <td>110.7400</td>\n",
       "      <td>110.5200</td>\n",
       "      <td>110.605</td>\n",
       "      <td>3553939</td>\n",
       "      <td>15119</td>\n",
       "      <td>110.627199</td>\n",
       "    </tr>\n",
       "    <tr>\n",
       "      <th>2016-05-03 04:00:00+00:00</th>\n",
       "      <td>206.52</td>\n",
       "      <td>206.80</td>\n",
       "      <td>205.2800</td>\n",
       "      <td>206.1592</td>\n",
       "      <td>106422142</td>\n",
       "      <td>377518</td>\n",
       "      <td>206.312060</td>\n",
       "      <td>110.89</td>\n",
       "      <td>110.9450</td>\n",
       "      <td>110.7500</td>\n",
       "      <td>110.810</td>\n",
       "      <td>3044940</td>\n",
       "      <td>15662</td>\n",
       "      <td>110.865995</td>\n",
       "    </tr>\n",
       "    <tr>\n",
       "      <th>2016-05-04 04:00:00+00:00</th>\n",
       "      <td>204.99</td>\n",
       "      <td>205.85</td>\n",
       "      <td>204.4200</td>\n",
       "      <td>205.0100</td>\n",
       "      <td>92199810</td>\n",
       "      <td>345261</td>\n",
       "      <td>205.090172</td>\n",
       "      <td>110.91</td>\n",
       "      <td>110.9315</td>\n",
       "      <td>110.7595</td>\n",
       "      <td>110.860</td>\n",
       "      <td>2920608</td>\n",
       "      <td>13982</td>\n",
       "      <td>110.879063</td>\n",
       "    </tr>\n",
       "    <tr>\n",
       "      <th>2016-05-05 04:00:00+00:00</th>\n",
       "      <td>205.56</td>\n",
       "      <td>205.98</td>\n",
       "      <td>204.4700</td>\n",
       "      <td>204.9700</td>\n",
       "      <td>67597222</td>\n",
       "      <td>280622</td>\n",
       "      <td>205.141555</td>\n",
       "      <td>110.92</td>\n",
       "      <td>111.1600</td>\n",
       "      <td>110.8010</td>\n",
       "      <td>111.140</td>\n",
       "      <td>3008142</td>\n",
       "      <td>15707</td>\n",
       "      <td>111.028363</td>\n",
       "    </tr>\n",
       "    <tr>\n",
       "      <th>2016-05-06 04:00:00+00:00</th>\n",
       "      <td>204.08</td>\n",
       "      <td>205.77</td>\n",
       "      <td>203.8800</td>\n",
       "      <td>205.7200</td>\n",
       "      <td>89131004</td>\n",
       "      <td>340335</td>\n",
       "      <td>204.937074</td>\n",
       "      <td>111.12</td>\n",
       "      <td>111.1200</td>\n",
       "      <td>110.9700</td>\n",
       "      <td>110.970</td>\n",
       "      <td>2718710</td>\n",
       "      <td>12697</td>\n",
       "      <td>111.031967</td>\n",
       "    </tr>\n",
       "    <tr>\n",
       "      <th>...</th>\n",
       "      <td>...</td>\n",
       "      <td>...</td>\n",
       "      <td>...</td>\n",
       "      <td>...</td>\n",
       "      <td>...</td>\n",
       "      <td>...</td>\n",
       "      <td>...</td>\n",
       "      <td>...</td>\n",
       "      <td>...</td>\n",
       "      <td>...</td>\n",
       "      <td>...</td>\n",
       "      <td>...</td>\n",
       "      <td>...</td>\n",
       "      <td>...</td>\n",
       "    </tr>\n",
       "    <tr>\n",
       "      <th>2021-04-26 04:00:00+00:00</th>\n",
       "      <td>417.44</td>\n",
       "      <td>418.22</td>\n",
       "      <td>416.8111</td>\n",
       "      <td>417.6100</td>\n",
       "      <td>51824860</td>\n",
       "      <td>295870</td>\n",
       "      <td>417.508245</td>\n",
       "      <td>114.74</td>\n",
       "      <td>114.8015</td>\n",
       "      <td>114.6500</td>\n",
       "      <td>114.650</td>\n",
       "      <td>3480303</td>\n",
       "      <td>13520</td>\n",
       "      <td>114.706244</td>\n",
       "    </tr>\n",
       "    <tr>\n",
       "      <th>2021-04-27 04:00:00+00:00</th>\n",
       "      <td>417.93</td>\n",
       "      <td>418.14</td>\n",
       "      <td>416.3000</td>\n",
       "      <td>417.5200</td>\n",
       "      <td>50297139</td>\n",
       "      <td>296300</td>\n",
       "      <td>417.481360</td>\n",
       "      <td>115.13</td>\n",
       "      <td>115.1300</td>\n",
       "      <td>114.3700</td>\n",
       "      <td>114.370</td>\n",
       "      <td>3820640</td>\n",
       "      <td>12720</td>\n",
       "      <td>114.498315</td>\n",
       "    </tr>\n",
       "    <tr>\n",
       "      <th>2021-04-28 04:00:00+00:00</th>\n",
       "      <td>417.81</td>\n",
       "      <td>419.01</td>\n",
       "      <td>416.9000</td>\n",
       "      <td>417.4000</td>\n",
       "      <td>50692781</td>\n",
       "      <td>330049</td>\n",
       "      <td>417.742098</td>\n",
       "      <td>114.45</td>\n",
       "      <td>114.4685</td>\n",
       "      <td>114.2000</td>\n",
       "      <td>114.430</td>\n",
       "      <td>7075831</td>\n",
       "      <td>24303</td>\n",
       "      <td>114.379810</td>\n",
       "    </tr>\n",
       "    <tr>\n",
       "      <th>2021-04-29 04:00:00+00:00</th>\n",
       "      <td>420.32</td>\n",
       "      <td>420.72</td>\n",
       "      <td>416.4400</td>\n",
       "      <td>420.0600</td>\n",
       "      <td>76965583</td>\n",
       "      <td>443396</td>\n",
       "      <td>418.824046</td>\n",
       "      <td>114.14</td>\n",
       "      <td>114.3700</td>\n",
       "      <td>114.0900</td>\n",
       "      <td>114.370</td>\n",
       "      <td>6208142</td>\n",
       "      <td>21096</td>\n",
       "      <td>114.250702</td>\n",
       "    </tr>\n",
       "    <tr>\n",
       "      <th>2021-04-30 04:00:00+00:00</th>\n",
       "      <td>417.63</td>\n",
       "      <td>418.54</td>\n",
       "      <td>416.3400</td>\n",
       "      <td>417.3000</td>\n",
       "      <td>84731942</td>\n",
       "      <td>478844</td>\n",
       "      <td>417.651995</td>\n",
       "      <td>114.41</td>\n",
       "      <td>114.5150</td>\n",
       "      <td>114.3300</td>\n",
       "      <td>114.490</td>\n",
       "      <td>6469432</td>\n",
       "      <td>19582</td>\n",
       "      <td>114.456246</td>\n",
       "    </tr>\n",
       "  </tbody>\n",
       "</table>\n",
       "<p>1259 rows × 14 columns</p>\n",
       "</div>"
      ],
      "text/plain": [
       "                              SPY                                         \\\n",
       "                             open    high       low     close     volume   \n",
       "timestamp                                                                  \n",
       "2016-05-02 04:00:00+00:00  206.92  208.18  206.4100  207.9700   61908515   \n",
       "2016-05-03 04:00:00+00:00  206.52  206.80  205.2800  206.1592  106422142   \n",
       "2016-05-04 04:00:00+00:00  204.99  205.85  204.4200  205.0100   92199810   \n",
       "2016-05-05 04:00:00+00:00  205.56  205.98  204.4700  204.9700   67597222   \n",
       "2016-05-06 04:00:00+00:00  204.08  205.77  203.8800  205.7200   89131004   \n",
       "...                           ...     ...       ...       ...        ...   \n",
       "2021-04-26 04:00:00+00:00  417.44  418.22  416.8111  417.6100   51824860   \n",
       "2021-04-27 04:00:00+00:00  417.93  418.14  416.3000  417.5200   50297139   \n",
       "2021-04-28 04:00:00+00:00  417.81  419.01  416.9000  417.4000   50692781   \n",
       "2021-04-29 04:00:00+00:00  420.32  420.72  416.4400  420.0600   76965583   \n",
       "2021-04-30 04:00:00+00:00  417.63  418.54  416.3400  417.3000   84731942   \n",
       "\n",
       "                                                      AGG                      \\\n",
       "                          trade_count        vwap    open      high       low   \n",
       "timestamp                                                                       \n",
       "2016-05-02 04:00:00+00:00      263580  207.294812  110.74  110.7400  110.5200   \n",
       "2016-05-03 04:00:00+00:00      377518  206.312060  110.89  110.9450  110.7500   \n",
       "2016-05-04 04:00:00+00:00      345261  205.090172  110.91  110.9315  110.7595   \n",
       "2016-05-05 04:00:00+00:00      280622  205.141555  110.92  111.1600  110.8010   \n",
       "2016-05-06 04:00:00+00:00      340335  204.937074  111.12  111.1200  110.9700   \n",
       "...                               ...         ...     ...       ...       ...   \n",
       "2021-04-26 04:00:00+00:00      295870  417.508245  114.74  114.8015  114.6500   \n",
       "2021-04-27 04:00:00+00:00      296300  417.481360  115.13  115.1300  114.3700   \n",
       "2021-04-28 04:00:00+00:00      330049  417.742098  114.45  114.4685  114.2000   \n",
       "2021-04-29 04:00:00+00:00      443396  418.824046  114.14  114.3700  114.0900   \n",
       "2021-04-30 04:00:00+00:00      478844  417.651995  114.41  114.5150  114.3300   \n",
       "\n",
       "                                                                     \n",
       "                             close   volume trade_count        vwap  \n",
       "timestamp                                                            \n",
       "2016-05-02 04:00:00+00:00  110.605  3553939       15119  110.627199  \n",
       "2016-05-03 04:00:00+00:00  110.810  3044940       15662  110.865995  \n",
       "2016-05-04 04:00:00+00:00  110.860  2920608       13982  110.879063  \n",
       "2016-05-05 04:00:00+00:00  111.140  3008142       15707  111.028363  \n",
       "2016-05-06 04:00:00+00:00  110.970  2718710       12697  111.031967  \n",
       "...                            ...      ...         ...         ...  \n",
       "2021-04-26 04:00:00+00:00  114.650  3480303       13520  114.706244  \n",
       "2021-04-27 04:00:00+00:00  114.370  3820640       12720  114.498315  \n",
       "2021-04-28 04:00:00+00:00  114.430  7075831       24303  114.379810  \n",
       "2021-04-29 04:00:00+00:00  114.370  6208142       21096  114.250702  \n",
       "2021-04-30 04:00:00+00:00  114.490  6469432       19582  114.456246  \n",
       "\n",
       "[1259 rows x 14 columns]"
      ]
     },
     "execution_count": 109,
     "metadata": {},
     "output_type": "execute_result"
    }
   ],
   "source": [
    "# Get 5 years' worth of historical data for SPY and AGG\n",
    "\n",
    "tickers=[\"SPY\", \"AGG\"]\n",
    "\n",
    "df_port = alpaca.get_bars(tickers, timeframe, start= start_date, end= end_date, limit=100000).df\n",
    "\n",
    "# Reorganize the DataFrame\n",
    "# Separate ticker data\n",
    "SPY_port = df_port[df_port[\"symbol\"]==\"SPY\"].drop(\"symbol\", axis=1)\n",
    "AGG_port = df_port[df_port[\"symbol\"]==\"AGG\"].drop(\"symbol\", axis=1)\n",
    "\n",
    "# Concatenate the ticker DataFrames\n",
    "\n",
    "portfolio_df_concat = pd.concat([SPY_port, AGG_port], axis=1, keys=[\"SPY\", \"AGG\"])\n",
    "\n",
    "# Display sample data\n",
    "portfolio_df_concat"
   ]
  },
  {
   "cell_type": "code",
   "execution_count": 113,
   "metadata": {},
   "outputs": [
    {
     "name": "stdout",
     "output_type": "stream",
     "text": [
      "Running Monte Carlo simulation number 0.\n",
      "Running Monte Carlo simulation number 10.\n",
      "Running Monte Carlo simulation number 20.\n",
      "Running Monte Carlo simulation number 30.\n",
      "Running Monte Carlo simulation number 40.\n",
      "Running Monte Carlo simulation number 50.\n",
      "Running Monte Carlo simulation number 60.\n",
      "Running Monte Carlo simulation number 70.\n",
      "Running Monte Carlo simulation number 80.\n",
      "Running Monte Carlo simulation number 90.\n",
      "Running Monte Carlo simulation number 100.\n"
     ]
    },
    {
     "name": "stderr",
     "output_type": "stream",
     "text": [
      "C:\\Users\\mdcod\\OneDrive\\Desktop\\API_Homework\\MCForecastTools.py:117: PerformanceWarning: DataFrame is highly fragmented.  This is usually the result of calling `frame.insert` many times, which has poor performance.  Consider joining all columns at once using pd.concat(axis=1) instead.  To get a de-fragmented frame, use `newframe = frame.copy()`\n",
      "  portfolio_cumulative_returns[n] = (1 + sim_df.fillna(0)).cumprod()\n"
     ]
    },
    {
     "name": "stdout",
     "output_type": "stream",
     "text": [
      "Running Monte Carlo simulation number 110.\n",
      "Running Monte Carlo simulation number 120.\n",
      "Running Monte Carlo simulation number 130.\n",
      "Running Monte Carlo simulation number 140.\n",
      "Running Monte Carlo simulation number 150.\n",
      "Running Monte Carlo simulation number 160.\n",
      "Running Monte Carlo simulation number 170.\n",
      "Running Monte Carlo simulation number 180.\n",
      "Running Monte Carlo simulation number 190.\n",
      "Running Monte Carlo simulation number 200.\n",
      "Running Monte Carlo simulation number 210.\n",
      "Running Monte Carlo simulation number 220.\n",
      "Running Monte Carlo simulation number 230.\n",
      "Running Monte Carlo simulation number 240.\n",
      "Running Monte Carlo simulation number 250.\n",
      "Running Monte Carlo simulation number 260.\n",
      "Running Monte Carlo simulation number 270.\n",
      "Running Monte Carlo simulation number 280.\n",
      "Running Monte Carlo simulation number 290.\n",
      "Running Monte Carlo simulation number 300.\n",
      "Running Monte Carlo simulation number 310.\n",
      "Running Monte Carlo simulation number 320.\n",
      "Running Monte Carlo simulation number 330.\n",
      "Running Monte Carlo simulation number 340.\n",
      "Running Monte Carlo simulation number 350.\n",
      "Running Monte Carlo simulation number 360.\n",
      "Running Monte Carlo simulation number 370.\n",
      "Running Monte Carlo simulation number 380.\n",
      "Running Monte Carlo simulation number 390.\n",
      "Running Monte Carlo simulation number 400.\n",
      "Running Monte Carlo simulation number 410.\n",
      "Running Monte Carlo simulation number 420.\n",
      "Running Monte Carlo simulation number 430.\n",
      "Running Monte Carlo simulation number 440.\n",
      "Running Monte Carlo simulation number 450.\n",
      "Running Monte Carlo simulation number 460.\n",
      "Running Monte Carlo simulation number 470.\n",
      "Running Monte Carlo simulation number 480.\n",
      "Running Monte Carlo simulation number 490.\n"
     ]
    },
    {
     "data": {
      "text/html": [
       "<div>\n",
       "<style scoped>\n",
       "    .dataframe tbody tr th:only-of-type {\n",
       "        vertical-align: middle;\n",
       "    }\n",
       "\n",
       "    .dataframe tbody tr th {\n",
       "        vertical-align: top;\n",
       "    }\n",
       "\n",
       "    .dataframe thead th {\n",
       "        text-align: right;\n",
       "    }\n",
       "</style>\n",
       "<table border=\"1\" class=\"dataframe\">\n",
       "  <thead>\n",
       "    <tr style=\"text-align: right;\">\n",
       "      <th></th>\n",
       "      <th>0</th>\n",
       "      <th>1</th>\n",
       "      <th>2</th>\n",
       "      <th>3</th>\n",
       "      <th>4</th>\n",
       "      <th>5</th>\n",
       "      <th>6</th>\n",
       "      <th>7</th>\n",
       "      <th>8</th>\n",
       "      <th>9</th>\n",
       "      <th>...</th>\n",
       "      <th>490</th>\n",
       "      <th>491</th>\n",
       "      <th>492</th>\n",
       "      <th>493</th>\n",
       "      <th>494</th>\n",
       "      <th>495</th>\n",
       "      <th>496</th>\n",
       "      <th>497</th>\n",
       "      <th>498</th>\n",
       "      <th>499</th>\n",
       "    </tr>\n",
       "  </thead>\n",
       "  <tbody>\n",
       "    <tr>\n",
       "      <th>0</th>\n",
       "      <td>1.000000</td>\n",
       "      <td>1.000000</td>\n",
       "      <td>1.000000</td>\n",
       "      <td>1.000000</td>\n",
       "      <td>1.000000</td>\n",
       "      <td>1.000000</td>\n",
       "      <td>1.000000</td>\n",
       "      <td>1.000000</td>\n",
       "      <td>1.000000</td>\n",
       "      <td>1.000000</td>\n",
       "      <td>...</td>\n",
       "      <td>1.000000</td>\n",
       "      <td>1.000000</td>\n",
       "      <td>1.000000</td>\n",
       "      <td>1.000000</td>\n",
       "      <td>1.000000</td>\n",
       "      <td>1.000000</td>\n",
       "      <td>1.000000</td>\n",
       "      <td>1.000000</td>\n",
       "      <td>1.000000</td>\n",
       "      <td>1.000000</td>\n",
       "    </tr>\n",
       "    <tr>\n",
       "      <th>1</th>\n",
       "      <td>1.007235</td>\n",
       "      <td>1.009435</td>\n",
       "      <td>1.002227</td>\n",
       "      <td>0.982399</td>\n",
       "      <td>0.998080</td>\n",
       "      <td>0.992992</td>\n",
       "      <td>1.007140</td>\n",
       "      <td>0.996161</td>\n",
       "      <td>0.986873</td>\n",
       "      <td>1.001208</td>\n",
       "      <td>...</td>\n",
       "      <td>1.004285</td>\n",
       "      <td>0.998242</td>\n",
       "      <td>1.007903</td>\n",
       "      <td>0.999010</td>\n",
       "      <td>0.993894</td>\n",
       "      <td>0.999550</td>\n",
       "      <td>1.004551</td>\n",
       "      <td>0.993687</td>\n",
       "      <td>1.004853</td>\n",
       "      <td>0.997195</td>\n",
       "    </tr>\n",
       "    <tr>\n",
       "      <th>2</th>\n",
       "      <td>1.013684</td>\n",
       "      <td>0.992235</td>\n",
       "      <td>1.013842</td>\n",
       "      <td>0.997801</td>\n",
       "      <td>1.008295</td>\n",
       "      <td>0.996106</td>\n",
       "      <td>1.005440</td>\n",
       "      <td>1.002870</td>\n",
       "      <td>0.993027</td>\n",
       "      <td>1.013917</td>\n",
       "      <td>...</td>\n",
       "      <td>1.012922</td>\n",
       "      <td>1.005225</td>\n",
       "      <td>0.998067</td>\n",
       "      <td>1.007317</td>\n",
       "      <td>0.987388</td>\n",
       "      <td>0.996765</td>\n",
       "      <td>0.997118</td>\n",
       "      <td>1.000968</td>\n",
       "      <td>1.010916</td>\n",
       "      <td>0.986417</td>\n",
       "    </tr>\n",
       "    <tr>\n",
       "      <th>3</th>\n",
       "      <td>1.010595</td>\n",
       "      <td>0.994811</td>\n",
       "      <td>1.015483</td>\n",
       "      <td>0.995271</td>\n",
       "      <td>1.010641</td>\n",
       "      <td>0.990732</td>\n",
       "      <td>1.019200</td>\n",
       "      <td>1.004947</td>\n",
       "      <td>0.990056</td>\n",
       "      <td>1.006140</td>\n",
       "      <td>...</td>\n",
       "      <td>1.012964</td>\n",
       "      <td>0.998004</td>\n",
       "      <td>0.998768</td>\n",
       "      <td>1.011464</td>\n",
       "      <td>0.992024</td>\n",
       "      <td>0.994997</td>\n",
       "      <td>0.989909</td>\n",
       "      <td>0.999962</td>\n",
       "      <td>1.020851</td>\n",
       "      <td>0.984343</td>\n",
       "    </tr>\n",
       "    <tr>\n",
       "      <th>4</th>\n",
       "      <td>1.004424</td>\n",
       "      <td>1.001667</td>\n",
       "      <td>1.011942</td>\n",
       "      <td>0.989838</td>\n",
       "      <td>1.013590</td>\n",
       "      <td>1.001383</td>\n",
       "      <td>1.021162</td>\n",
       "      <td>1.015279</td>\n",
       "      <td>0.983254</td>\n",
       "      <td>1.002146</td>\n",
       "      <td>...</td>\n",
       "      <td>1.005685</td>\n",
       "      <td>0.998527</td>\n",
       "      <td>0.996919</td>\n",
       "      <td>1.004188</td>\n",
       "      <td>0.983101</td>\n",
       "      <td>0.990378</td>\n",
       "      <td>0.982793</td>\n",
       "      <td>0.992485</td>\n",
       "      <td>1.035387</td>\n",
       "      <td>0.987929</td>\n",
       "    </tr>\n",
       "    <tr>\n",
       "      <th>...</th>\n",
       "      <td>...</td>\n",
       "      <td>...</td>\n",
       "      <td>...</td>\n",
       "      <td>...</td>\n",
       "      <td>...</td>\n",
       "      <td>...</td>\n",
       "      <td>...</td>\n",
       "      <td>...</td>\n",
       "      <td>...</td>\n",
       "      <td>...</td>\n",
       "      <td>...</td>\n",
       "      <td>...</td>\n",
       "      <td>...</td>\n",
       "      <td>...</td>\n",
       "      <td>...</td>\n",
       "      <td>...</td>\n",
       "      <td>...</td>\n",
       "      <td>...</td>\n",
       "      <td>...</td>\n",
       "      <td>...</td>\n",
       "      <td>...</td>\n",
       "    </tr>\n",
       "    <tr>\n",
       "      <th>7556</th>\n",
       "      <td>9.737743</td>\n",
       "      <td>15.396489</td>\n",
       "      <td>31.123133</td>\n",
       "      <td>7.224155</td>\n",
       "      <td>9.078837</td>\n",
       "      <td>4.765717</td>\n",
       "      <td>24.406007</td>\n",
       "      <td>10.495655</td>\n",
       "      <td>5.956080</td>\n",
       "      <td>22.975557</td>\n",
       "      <td>...</td>\n",
       "      <td>6.912712</td>\n",
       "      <td>38.901388</td>\n",
       "      <td>12.344916</td>\n",
       "      <td>5.152518</td>\n",
       "      <td>21.258217</td>\n",
       "      <td>43.774445</td>\n",
       "      <td>14.738229</td>\n",
       "      <td>5.803665</td>\n",
       "      <td>34.128618</td>\n",
       "      <td>6.988964</td>\n",
       "    </tr>\n",
       "    <tr>\n",
       "      <th>7557</th>\n",
       "      <td>9.578165</td>\n",
       "      <td>15.409504</td>\n",
       "      <td>31.466500</td>\n",
       "      <td>7.242553</td>\n",
       "      <td>9.039554</td>\n",
       "      <td>4.798764</td>\n",
       "      <td>24.207995</td>\n",
       "      <td>10.493237</td>\n",
       "      <td>5.971335</td>\n",
       "      <td>23.031095</td>\n",
       "      <td>...</td>\n",
       "      <td>6.905030</td>\n",
       "      <td>39.040989</td>\n",
       "      <td>12.285737</td>\n",
       "      <td>5.141723</td>\n",
       "      <td>21.383283</td>\n",
       "      <td>43.388759</td>\n",
       "      <td>14.753357</td>\n",
       "      <td>5.765670</td>\n",
       "      <td>34.067802</td>\n",
       "      <td>7.049815</td>\n",
       "    </tr>\n",
       "    <tr>\n",
       "      <th>7558</th>\n",
       "      <td>9.631327</td>\n",
       "      <td>15.295353</td>\n",
       "      <td>31.771321</td>\n",
       "      <td>7.161076</td>\n",
       "      <td>8.989896</td>\n",
       "      <td>4.821027</td>\n",
       "      <td>24.256485</td>\n",
       "      <td>10.353369</td>\n",
       "      <td>6.037074</td>\n",
       "      <td>23.201553</td>\n",
       "      <td>...</td>\n",
       "      <td>6.905725</td>\n",
       "      <td>39.034330</td>\n",
       "      <td>12.380584</td>\n",
       "      <td>5.110113</td>\n",
       "      <td>21.289807</td>\n",
       "      <td>44.064243</td>\n",
       "      <td>14.809255</td>\n",
       "      <td>5.743547</td>\n",
       "      <td>33.767697</td>\n",
       "      <td>7.044502</td>\n",
       "    </tr>\n",
       "    <tr>\n",
       "      <th>7559</th>\n",
       "      <td>9.658117</td>\n",
       "      <td>15.303968</td>\n",
       "      <td>32.113106</td>\n",
       "      <td>7.117385</td>\n",
       "      <td>9.009186</td>\n",
       "      <td>4.824950</td>\n",
       "      <td>24.556325</td>\n",
       "      <td>10.346870</td>\n",
       "      <td>6.109547</td>\n",
       "      <td>23.223961</td>\n",
       "      <td>...</td>\n",
       "      <td>6.947809</td>\n",
       "      <td>39.051235</td>\n",
       "      <td>12.556516</td>\n",
       "      <td>5.109920</td>\n",
       "      <td>21.287381</td>\n",
       "      <td>44.382312</td>\n",
       "      <td>14.914662</td>\n",
       "      <td>5.790651</td>\n",
       "      <td>33.947021</td>\n",
       "      <td>7.029563</td>\n",
       "    </tr>\n",
       "    <tr>\n",
       "      <th>7560</th>\n",
       "      <td>9.697188</td>\n",
       "      <td>15.132293</td>\n",
       "      <td>31.992417</td>\n",
       "      <td>7.182283</td>\n",
       "      <td>8.971861</td>\n",
       "      <td>4.788281</td>\n",
       "      <td>24.666820</td>\n",
       "      <td>10.410259</td>\n",
       "      <td>6.100538</td>\n",
       "      <td>23.113090</td>\n",
       "      <td>...</td>\n",
       "      <td>6.924889</td>\n",
       "      <td>38.607931</td>\n",
       "      <td>12.584242</td>\n",
       "      <td>5.128453</td>\n",
       "      <td>21.403532</td>\n",
       "      <td>44.500631</td>\n",
       "      <td>14.880142</td>\n",
       "      <td>5.836159</td>\n",
       "      <td>33.517052</td>\n",
       "      <td>7.150336</td>\n",
       "    </tr>\n",
       "  </tbody>\n",
       "</table>\n",
       "<p>7561 rows × 500 columns</p>\n",
       "</div>"
      ],
      "text/plain": [
       "           0          1          2         3         4         5          6    \\\n",
       "0     1.000000   1.000000   1.000000  1.000000  1.000000  1.000000   1.000000   \n",
       "1     1.007235   1.009435   1.002227  0.982399  0.998080  0.992992   1.007140   \n",
       "2     1.013684   0.992235   1.013842  0.997801  1.008295  0.996106   1.005440   \n",
       "3     1.010595   0.994811   1.015483  0.995271  1.010641  0.990732   1.019200   \n",
       "4     1.004424   1.001667   1.011942  0.989838  1.013590  1.001383   1.021162   \n",
       "...        ...        ...        ...       ...       ...       ...        ...   \n",
       "7556  9.737743  15.396489  31.123133  7.224155  9.078837  4.765717  24.406007   \n",
       "7557  9.578165  15.409504  31.466500  7.242553  9.039554  4.798764  24.207995   \n",
       "7558  9.631327  15.295353  31.771321  7.161076  8.989896  4.821027  24.256485   \n",
       "7559  9.658117  15.303968  32.113106  7.117385  9.009186  4.824950  24.556325   \n",
       "7560  9.697188  15.132293  31.992417  7.182283  8.971861  4.788281  24.666820   \n",
       "\n",
       "            7         8          9    ...       490        491        492  \\\n",
       "0      1.000000  1.000000   1.000000  ...  1.000000   1.000000   1.000000   \n",
       "1      0.996161  0.986873   1.001208  ...  1.004285   0.998242   1.007903   \n",
       "2      1.002870  0.993027   1.013917  ...  1.012922   1.005225   0.998067   \n",
       "3      1.004947  0.990056   1.006140  ...  1.012964   0.998004   0.998768   \n",
       "4      1.015279  0.983254   1.002146  ...  1.005685   0.998527   0.996919   \n",
       "...         ...       ...        ...  ...       ...        ...        ...   \n",
       "7556  10.495655  5.956080  22.975557  ...  6.912712  38.901388  12.344916   \n",
       "7557  10.493237  5.971335  23.031095  ...  6.905030  39.040989  12.285737   \n",
       "7558  10.353369  6.037074  23.201553  ...  6.905725  39.034330  12.380584   \n",
       "7559  10.346870  6.109547  23.223961  ...  6.947809  39.051235  12.556516   \n",
       "7560  10.410259  6.100538  23.113090  ...  6.924889  38.607931  12.584242   \n",
       "\n",
       "           493        494        495        496       497        498       499  \n",
       "0     1.000000   1.000000   1.000000   1.000000  1.000000   1.000000  1.000000  \n",
       "1     0.999010   0.993894   0.999550   1.004551  0.993687   1.004853  0.997195  \n",
       "2     1.007317   0.987388   0.996765   0.997118  1.000968   1.010916  0.986417  \n",
       "3     1.011464   0.992024   0.994997   0.989909  0.999962   1.020851  0.984343  \n",
       "4     1.004188   0.983101   0.990378   0.982793  0.992485   1.035387  0.987929  \n",
       "...        ...        ...        ...        ...       ...        ...       ...  \n",
       "7556  5.152518  21.258217  43.774445  14.738229  5.803665  34.128618  6.988964  \n",
       "7557  5.141723  21.383283  43.388759  14.753357  5.765670  34.067802  7.049815  \n",
       "7558  5.110113  21.289807  44.064243  14.809255  5.743547  33.767697  7.044502  \n",
       "7559  5.109920  21.287381  44.382312  14.914662  5.790651  33.947021  7.029563  \n",
       "7560  5.128453  21.403532  44.500631  14.880142  5.836159  33.517052  7.150336  \n",
       "\n",
       "[7561 rows x 500 columns]"
      ]
     },
     "execution_count": 113,
     "metadata": {},
     "output_type": "execute_result"
    }
   ],
   "source": [
    "# Simulating Returns\n",
    "# Configuring a Monte Carlo simulation to forecast 30 years cumulative returns\n",
    "\n",
    "MC_30YR = MCSimulation(\n",
    "        portfolio_data=portfolio_df_concat,\n",
    "        weights= [0.6, 0.4],\n",
    "        num_simulation=500,\n",
    "        num_trading_days= 252*30\n",
    "    )\n",
    "\n",
    "MC_30YR.calc_cumulative_return()"
   ]
  },
  {
   "cell_type": "code",
   "execution_count": 114,
   "metadata": {},
   "outputs": [
    {
     "data": {
      "image/png": "[encoded data removed]",
      "text/plain": [
       "<Figure size 640x480 with 1 Axes>"
      ]
     },
     "metadata": {},
     "output_type": "display_data"
    }
   ],
   "source": [
    "# Running a Monte Carlo simulation to forecast 30 years cumulative returns\n",
    "\n",
    "line_plot = MC_30YR.plot_simulation()"
   ]
  },
  {
   "cell_type": "code",
   "execution_count": 115,
   "metadata": {},
   "outputs": [
    {
     "data": {
      "image/png": "[encoded data removed]",
      "text/plain": [
       "<Figure size 640x480 with 1 Axes>"
      ]
     },
     "metadata": {},
     "output_type": "display_data"
    }
   ],
   "source": [
    "# Plot probability distribution and confidence intervals\n",
    "dist_plot = MC_30YR.plot_distribution()"
   ]
  },
  {
   "cell_type": "markdown",
   "metadata": {},
   "source": [
    "### Retirement Analysis"
   ]
  },
  {
   "cell_type": "code",
   "execution_count": 119,
   "metadata": {},
   "outputs": [
    {
     "name": "stdout",
     "output_type": "stream",
     "text": [
      "count           500.000000\n",
      "mean             17.562928\n",
      "std              11.659985\n",
      "min               1.565803\n",
      "25%              10.172171\n",
      "50%              14.998378\n",
      "75%              21.324094\n",
      "max              92.336448\n",
      "95% CI Lower      4.955420\n",
      "95% CI Upper     51.411697\n",
      "Name: 7560, dtype: float64\n"
     ]
    }
   ],
   "source": [
    "# Fetch summary statistics from the Monte Carlo simulation results\n",
    "\n",
    "\n",
    "# Print summary statistics\n",
    "tbl = MC_30YR.summarize_cumulative_return()\n",
    "print(tbl)\n"
   ]
  },
  {
   "cell_type": "markdown",
   "metadata": {},
   "source": [
    "### Calculate the expected portfolio return at the `95%` lower and upper confidence intervals based on a `$20,000` initial investment."
   ]
  },
  {
   "cell_type": "code",
   "execution_count": 121,
   "metadata": {},
   "outputs": [
    {
     "name": "stdout",
     "output_type": "stream",
     "text": [
      "There is a 95% chance that an initial investment of $20000 in the portfolio over the next 30 years will end within in the range of $99108.4 and $1028233.93\n"
     ]
    }
   ],
   "source": [
    "# Set initial investment\n",
    "initial_investment = 20000\n",
    "ci_lower = tbl[8]\n",
    "ci_upper = tbl[9]\n",
    "\n",
    "# Use the lower and upper `95%` confidence intervals to calculate the range of the possible outcomes of our $20,000\n",
    "lower_bound = initial_investment * ci_lower\n",
    "upper_bound = initial_investment * ci_upper\n",
    "\n",
    "# Print results\n",
    "print(f\"There is a 95% chance that an initial investment of ${initial_investment} in the portfolio\"\n",
    "      f\" over the next 30 years will end within in the range of\"\n",
    "      f\" ${round(lower_bound,2)} and ${round(upper_bound,2)}\")"
   ]
  },
  {
   "cell_type": "markdown",
   "metadata": {},
   "source": [
    "### Calculate the expected portfolio return at the `95%` lower and upper confidence intervals based on a `50%` increase in the initial investment."
   ]
  },
  {
   "cell_type": "code",
   "execution_count": 122,
   "metadata": {},
   "outputs": [
    {
     "name": "stdout",
     "output_type": "stream",
     "text": [
      "There is a 95% chance that an initial investment of $30000.0 in the portfolio over the next 30 years will end within in the range of $148662.6 and $1542350.9\n"
     ]
    }
   ],
   "source": [
    "# Set initial investment\n",
    "initial_investment = 20000 * 1.5\n",
    "\n",
    "# Use the lower and upper `95%` confidence intervals to calculate the range of the possible outcomes of our $30,000\n",
    "\n",
    "lower_bound_2 = initial_investment * ci_lower\n",
    "upper_bound_2 = initial_investment * ci_upper\n",
    "\n",
    "# Print results\n",
    "print(f\"There is a 95% chance that an initial investment of ${initial_investment} in the portfolio\"\n",
    "      f\" over the next 30 years will end within in the range of\"\n",
    "      f\" ${round(lower_bound_2,2)} and ${round(upper_bound_2,2)}\")"
   ]
  },
  {
   "cell_type": "markdown",
   "metadata": {},
   "source": [
    "## Optional Challenge - Early Retirement\n",
    "\n",
    "\n",
    "### Five Years Retirement Option"
   ]
  },
  {
   "cell_type": "code",
   "execution_count": null,
   "metadata": {},
   "outputs": [],
   "source": [
    "# Configuring a Monte Carlo simulation to forecast 5 years cumulative returns\n",
    "# YOUR CODE HERE!"
   ]
  },
  {
   "cell_type": "code",
   "execution_count": null,
   "metadata": {},
   "outputs": [],
   "source": [
    "# Running a Monte Carlo simulation to forecast 5 years cumulative returns\n",
    "# YOUR CODE HERE!"
   ]
  },
  {
   "cell_type": "code",
   "execution_count": null,
   "metadata": {},
   "outputs": [],
   "source": [
    "# Plot simulation outcomes\n",
    "# YOUR CODE HERE!"
   ]
  },
  {
   "cell_type": "code",
   "execution_count": null,
   "metadata": {},
   "outputs": [],
   "source": [
    "# Plot probability distribution and confidence intervals\n",
    "# YOUR CODE HERE!"
   ]
  },
  {
   "cell_type": "code",
   "execution_count": null,
   "metadata": {},
   "outputs": [],
   "source": [
    "# Fetch summary statistics from the Monte Carlo simulation results\n",
    "# YOUR CODE HERE!\n",
    "\n",
    "# Print summary statistics\n",
    "# YOUR CODE HERE!"
   ]
  },
  {
   "cell_type": "code",
   "execution_count": null,
   "metadata": {},
   "outputs": [],
   "source": [
    "# Set initial investment\n",
    "# YOUR CODE HERE!\n",
    "\n",
    "# Use the lower and upper `95%` confidence intervals to calculate the range of the possible outcomes of our $60,000\n",
    "# YOUR CODE HERE!\n",
    "\n",
    "# Print results\n",
    "print(f\"There is a 95% chance that an initial investment of ${initial_investment} in the portfolio\"\n",
    "      f\" over the next 5 years will end within in the range of\"\n",
    "      f\" ${ci_lower_five} and ${ci_upper_five}\")"
   ]
  },
  {
   "cell_type": "markdown",
   "metadata": {},
   "source": [
    "### Ten Years Retirement Option"
   ]
  },
  {
   "cell_type": "code",
   "execution_count": null,
   "metadata": {},
   "outputs": [],
   "source": [
    "# Configuring a Monte Carlo simulation to forecast 10 years cumulative returns\n",
    "# YOUR CODE HERE!"
   ]
  },
  {
   "cell_type": "code",
   "execution_count": null,
   "metadata": {},
   "outputs": [],
   "source": [
    "# Running a Monte Carlo simulation to forecast 10 years cumulative returns\n",
    "# YOUR CODE HERE!"
   ]
  },
  {
   "cell_type": "code",
   "execution_count": null,
   "metadata": {},
   "outputs": [],
   "source": [
    "# Plot simulation outcomes\n",
    "# YOUR CODE HERE!"
   ]
  },
  {
   "cell_type": "code",
   "execution_count": null,
   "metadata": {},
   "outputs": [],
   "source": [
    "# Plot probability distribution and confidence intervals\n",
    "# YOUR CODE HERE!"
   ]
  },
  {
   "cell_type": "code",
   "execution_count": null,
   "metadata": {},
   "outputs": [],
   "source": [
    "# Fetch summary statistics from the Monte Carlo simulation results\n",
    "# YOUR CODE HERE!\n",
    "\n",
    "# Print summary statistics\n",
    "# YOUR CODE HERE!"
   ]
  },
  {
   "cell_type": "code",
   "execution_count": null,
   "metadata": {},
   "outputs": [],
   "source": [
    "# Set initial investment\n",
    "# YOUR CODE HERE!\n",
    "\n",
    "# Use the lower and upper `95%` confidence intervals to calculate the range of the possible outcomes of our $60,000\n",
    "# YOUR CODE HERE!\n",
    "\n",
    "# Print results\n",
    "print(f\"There is a 95% chance that an initial investment of ${initial_investment} in the portfolio\"\n",
    "      f\" over the next 10 years will end within in the range of\"\n",
    "      f\" ${ci_lower_ten} and ${ci_upper_ten}\")"
   ]
  },
  {
   "cell_type": "code",
   "execution_count": null,
   "metadata": {},
   "outputs": [],
   "source": []
  }
 ],
 "metadata": {
  "kernelspec": {
   "display_name": "Python 3 (ipykernel)",
   "language": "python",
   "name": "python3"
  },
  "language_info": {
   "codemirror_mode": {
    "name": "ipython",
    "version": 3
   },
   "file_extension": ".py",
   "mimetype": "text/x-python",
   "name": "python",
   "nbconvert_exporter": "python",
   "pygments_lexer": "ipython3",
   "version": "3.7.16"
  },
  "nteract": {
   "version": "0.28.0"
  }
 },
 "nbformat": 4,
 "nbformat_minor": 4
}
